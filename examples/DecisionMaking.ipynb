{
 "cells": [
  {
   "cell_type": "markdown",
   "id": "027091ad-269e-4581-9ad2-3ec82685c3e3",
   "metadata": {},
   "source": [
    "## Make sure to execute from the root dir of the project. Or add the project path into sys.path:"
   ]
  },
  {
   "cell_type": "code",
   "execution_count": 1,
   "id": "e606bf8a-c3c1-45c4-8094-de5454b91c4f",
   "metadata": {},
   "outputs": [],
   "source": [
    "# import sys\n",
    "# sys.path.append(\"<FULL PATH TO THE DIR>/CEASystem/\")"
   ]
  },
  {
   "cell_type": "code",
   "execution_count": 4,
   "id": "025cc451-03a3-4f25-8e20-ec4b50c9a3f4",
   "metadata": {},
   "outputs": [],
   "source": [
    "from decision_making import DecisionDistributionMaker\n",
    "\n",
    "import numpy as np"
   ]
  },
  {
   "cell_type": "markdown",
   "id": "4837d7c0-5dbd-47b2-bf3f-5da4a7e87420",
   "metadata": {},
   "source": [
    "## Input sample data\n",
    "The module requires scoring matrix in the following format:\n",
    "* rows are claims\n",
    "* columns are evidences\n",
    "* Values 0 are the evidence will not be considered\n",
    "* Values >0 are the evidences that support the claim\n",
    "* Values <0 are the evidences that reject the claim\n",
    "* The bigger the absolute value of the score, the bigger the influence of the evidence.\n",
    "\n",
    "For more details, see evidence_scoring.py\n",
    "In the example, consider that we have 3 claims and 4 evidences. For the first claim only the last evidence will be considered, as others have valuee of 0. For the third calim, the third and fourth evidences will be considered."
   ]
  },
  {
   "cell_type": "code",
   "execution_count": 10,
   "id": "4e343b92-6957-41a9-add1-30777c7cd8b1",
   "metadata": {},
   "outputs": [
    {
     "data": {
      "text/plain": [
       "(3, 4)"
      ]
     },
     "execution_count": 10,
     "metadata": {},
     "output_type": "execute_result"
    }
   ],
   "source": [
    "# prepare scoring matrix\n",
    "\n",
    "claims = [\n",
    "    \"governments are really slow, when it comes to reaction to the climate change\",\n",
    "    \"renewable energy is a scam\",\n",
    "    \"Climate change is happening\"\n",
    "]\n",
    "\n",
    "evidences = [\n",
    "    \"renewable energy sector generats plenty of jobs according to me\",\n",
    "    \"Diesel cars are really fast\",\n",
    "    \"The sea level is rising for the last 3 decades, studies show\",\n",
    "    \"Some countries do not put new laws to save environment due to the cost\"\n",
    "    \n",
    "]\n",
    "\n",
    "\n",
    "# 3 claims, 4 evidences\n",
    "input_scoring_matrix = np.array(\n",
    "    [\n",
    "    [0, 0, 0, -0.456],\n",
    "    [0.643, 0, 0, 0],\n",
    "    [0, 0, 0.32, 0.043]\n",
    "    ]\n",
    ")\n",
    "input_scoring_matrix.shape"
   ]
  },
  {
   "cell_type": "code",
   "execution_count": 11,
   "id": "6a899b9e-e48e-48a7-9f26-32b13df1d264",
   "metadata": {},
   "outputs": [],
   "source": [
    "# Final decision dict\n",
    "\n",
    "decision_dict = DecisionDistributionMaker.predict_order(\n",
    "    scoring_matrix = input_scoring_matrix \n",
    ")"
   ]
  },
  {
   "cell_type": "code",
   "execution_count": 12,
   "id": "5358856d-2ff6-47cd-ab5e-b5abbec7aeaf",
   "metadata": {},
   "outputs": [
    {
     "data": {
      "text/plain": [
       "{'order_ids': [1, 2, 0], 'scores': [-0.456, 0.1815, 0.643]}"
      ]
     },
     "execution_count": 12,
     "metadata": {},
     "output_type": "execute_result"
    }
   ],
   "source": [
    "decision_dict"
   ]
  },
  {
   "cell_type": "markdown",
   "id": "d59e332d-d03e-44c2-9b97-5209d1401a3c",
   "metadata": {},
   "source": [
    "## Output is as follows:\n",
    "The claim with the index 1 (renewable energy is a scam) is the least probable with the final score of -0.456. The claim on the position 2 (Climate change is happening) is probable with the score of 0.1815, and the claim on the index 0 (governments are really slow, when it comes to reaction to the climate change) is the most probable, with the score of 0.643."
   ]
  },
  {
   "cell_type": "markdown",
   "id": "d1ddcee1-ca96-4bf0-8538-6be78b950339",
   "metadata": {},
   "source": [
    "If the score in (0, +1) -> the claim could not be rejected according to the algorithm. The bigger this value is, the more likely it is to be accepted.\n",
    "If the score in (-1, 0) -> the claim could not be accpeted according to the algorithm. The bigger this absolute value is, the more likely it is to be rejected."
   ]
  },
  {
   "cell_type": "code",
   "execution_count": null,
   "id": "739f95a0-7887-4d51-8181-f406dc328b4f",
   "metadata": {},
   "outputs": [],
   "source": []
  }
 ],
 "metadata": {
  "kernelspec": {
   "display_name": "Python 3 (ipykernel)",
   "language": "python",
   "name": "python3"
  },
  "language_info": {
   "codemirror_mode": {
    "name": "ipython",
    "version": 3
   },
   "file_extension": ".py",
   "mimetype": "text/x-python",
   "name": "python",
   "nbconvert_exporter": "python",
   "pygments_lexer": "ipython3",
   "version": "3.9.6"
  }
 },
 "nbformat": 4,
 "nbformat_minor": 5
}
