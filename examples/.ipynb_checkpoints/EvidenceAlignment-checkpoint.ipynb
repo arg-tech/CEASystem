{
 "cells": [
  {
   "cell_type": "markdown",
   "id": "31660680-0e20-4085-be5f-be318f13ed97",
   "metadata": {},
   "source": [
    "## Make sure to execute from the root dir of the project. Or add the project path into sys.path:"
   ]
  },
  {
   "cell_type": "code",
   "execution_count": 1,
   "id": "536d58a9-14a1-4ac6-95df-5b9c30cf0f1d",
   "metadata": {},
   "outputs": [],
   "source": [
    "# import sys\n",
    "# sys.path.append(\"<FULL PATH TO THE DIR>/CEASystem/\")"
   ]
  },
  {
   "cell_type": "code",
   "execution_count": 3,
   "id": "fed12f8c-5518-4f86-b1be-a951a811aac5",
   "metadata": {},
   "outputs": [
    {
     "name": "stderr",
     "output_type": "stream",
     "text": [
      "/Users/yevhen/Library/Python/3.9/lib/python/site-packages/urllib3/__init__.py:34: NotOpenSSLWarning: urllib3 v2 only supports OpenSSL 1.1.1+, currently the 'ssl' module is compiled with 'LibreSSL 2.8.3'. See: https://github.com/urllib3/urllib3/issues/3020\n",
      "  warnings.warn(\n"
     ]
    }
   ],
   "source": [
    "from evidence_alignment import EvidenceAligner"
   ]
  },
  {
   "cell_type": "markdown",
   "id": "bb357809-0d35-4b72-ae6b-80c83b08930f",
   "metadata": {},
   "source": [
    "## The algorithm aligns claims and evidences (relevant/irrelevant claim)"
   ]
  },
  {
   "cell_type": "code",
   "execution_count": 4,
   "id": "3d432ca5-a511-4f98-9bba-4f07c8d170ee",
   "metadata": {},
   "outputs": [],
   "source": [
    "claims = [\n",
    "    \"Climate change is not influenced by human activities\",\n",
    "    \"Eating chocolate every day is good for your health\"\n",
    "]\n",
    "\n",
    "evidences = [\n",
    "    \"natural factors can influence climate\",\n",
    "    \"the current warming trend is largely attributed to human activities\",\n",
    "    \"the burning of fossil fuels and deforestation cause climate change\",\n",
    "    \"The financial crisis of 1929 was caused by too much cash in my pocket\",\n",
    "    \"A balanced diet with a variety of nutrients is more beneficial for overall health\",\n",
    "    \"Excessive consumption of chocolate, especially with added sugars, can contribute to health problems\",\n",
    "    \"dogs can bark\"\n",
    "]\n"
   ]
  },
  {
   "cell_type": "code",
   "execution_count": 5,
   "id": "19557368-155f-4451-962c-e2f9964a2faa",
   "metadata": {},
   "outputs": [],
   "source": [
    "# Pre-trained binary classifier\n",
    "# See README to how to train yours or where to download pre-trained one\n",
    "\n",
    "model_path = \"roberta-EvidenceAlignment-tuned-model\"\n",
    "batch_size = 8\n",
    "\n",
    "aligner = EvidenceAligner(model_path)"
   ]
  },
  {
   "cell_type": "code",
   "execution_count": 7,
   "id": "dff44872-61b3-4b90-9f71-c447e61f250b",
   "metadata": {},
   "outputs": [],
   "source": [
    "preds = aligner.predict(\n",
    "    hypothesises=claims,\n",
    "    evidences=evidences,\n",
    "    batch_size=batch_size\n",
    ")"
   ]
  },
  {
   "cell_type": "code",
   "execution_count": null,
   "id": "aaa381c8-b524-44fc-9e23-3fa8ae97cf1f",
   "metadata": {},
   "outputs": [],
   "source": []
  },
  {
   "cell_type": "markdown",
   "id": "747ca722-d814-4115-aaed-174219c5fc6a",
   "metadata": {},
   "source": [
    "## Output is a binary alignment matrix of shape (num claims, num evidences)\n",
    "1 means that evidence is relevant to the claim, 0 - is not relevant"
   ]
  },
  {
   "cell_type": "code",
   "execution_count": 11,
   "id": "0080fdc8-4a8c-4785-a88a-4956c43120f1",
   "metadata": {},
   "outputs": [
    {
     "data": {
      "text/plain": [
       "(2, 7)"
      ]
     },
     "execution_count": 11,
     "metadata": {},
     "output_type": "execute_result"
    }
   ],
   "source": [
    "preds.shape"
   ]
  },
  {
   "cell_type": "code",
   "execution_count": 12,
   "id": "5b3bc31e-2a11-4e51-bbf2-9e716ae85e6a",
   "metadata": {},
   "outputs": [
    {
     "data": {
      "text/plain": [
       "array([[1., 1., 1., 0., 0., 0., 0.],\n",
       "       [0., 0., 0., 0., 1., 1., 0.]])"
      ]
     },
     "execution_count": 12,
     "metadata": {},
     "output_type": "execute_result"
    }
   ],
   "source": [
    "preds"
   ]
  },
  {
   "cell_type": "code",
   "execution_count": null,
   "id": "1cc02585-83f0-4853-b5a2-d9865d9613b2",
   "metadata": {},
   "outputs": [],
   "source": []
  }
 ],
 "metadata": {
  "kernelspec": {
   "display_name": "Python 3 (ipykernel)",
   "language": "python",
   "name": "python3"
  },
  "language_info": {
   "codemirror_mode": {
    "name": "ipython",
    "version": 3
   },
   "file_extension": ".py",
   "mimetype": "text/x-python",
   "name": "python",
   "nbconvert_exporter": "python",
   "pygments_lexer": "ipython3",
   "version": "3.9.6"
  }
 },
 "nbformat": 4,
 "nbformat_minor": 5
}
