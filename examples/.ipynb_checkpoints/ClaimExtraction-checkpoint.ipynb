{
 "cells": [
  {
   "cell_type": "markdown",
   "id": "1d9c44eb-18d6-483e-bf73-ded4ca3a5fbc",
   "metadata": {},
   "source": [
    "## Make sure to execute from the root dir of the project. Or add the project path into sys.path:"
   ]
  },
  {
   "cell_type": "code",
   "execution_count": null,
   "id": "5a3760c0-5d52-4a36-b1eb-a42e74f01ae2",
   "metadata": {},
   "outputs": [],
   "source": [
    "# import sys\n",
    "# sys.path.append(\"<FULL PATH TO THE DIR>/CEASystem/\")"
   ]
  },
  {
   "cell_type": "code",
   "execution_count": 6,
   "id": "d074a346-9a32-4b1a-ba1b-2b305e791cb2",
   "metadata": {},
   "outputs": [],
   "source": [
    "import json\n",
    "from claim_extraction import RelationClaimExtractor"
   ]
  },
  {
   "cell_type": "code",
   "execution_count": 7,
   "id": "72922b18-7d43-4d14-a14d-5b0877317b5f",
   "metadata": {},
   "outputs": [],
   "source": [
    "# load AIF data\n",
    "# See http://corpora.aifdb.org/cutietestrun28May2020 for example\n",
    "\n",
    "data = json.load(\n",
    "    open(\"nodeset17919.json\", \"r\")\n",
    ")"
   ]
  },
  {
   "cell_type": "code",
   "execution_count": 9,
   "id": "eabfb801-c7c0-40e3-94f0-37730f64fbf2",
   "metadata": {},
   "outputs": [
    {
     "data": {
      "text/plain": [
       "dict_keys(['edges', 'locutions', 'nodes'])"
      ]
     },
     "execution_count": 9,
     "metadata": {},
     "output_type": "execute_result"
    }
   ],
   "source": [
    "data.keys()"
   ]
  },
  {
   "cell_type": "code",
   "execution_count": null,
   "id": "7f8f8e7e-a647-4601-bcd3-e06d36798dda",
   "metadata": {},
   "outputs": [],
   "source": []
  },
  {
   "cell_type": "markdown",
   "id": "70e71ca0-9eb9-43fe-a6ef-e4d10be8530f",
   "metadata": {},
   "source": [
    "## Extracting claims with all of the meta information from AIF graph"
   ]
  },
  {
   "cell_type": "code",
   "execution_count": 10,
   "id": "bd6f573a-27ed-4e5c-b50c-aaa0154da515",
   "metadata": {},
   "outputs": [],
   "source": [
    "# Extract claims from the graph\n",
    "\n",
    "extracted_claims = RelationClaimExtractor.get_claim_nodes_aif(\n",
    "        aif_json=data\n",
    "    )"
   ]
  },
  {
   "cell_type": "code",
   "execution_count": 11,
   "id": "bec7ae04-310f-4d07-b71a-94ce555ef2e3",
   "metadata": {},
   "outputs": [
    {
     "data": {
      "text/plain": [
       "[{'nodeID': '511062',\n",
       "  'text': \"on Helle's point about the constituent nations of the United Kingdom, Wales, Scotland and Northern Ireland chart their own course\",\n",
       "  'type': 'I',\n",
       "  'timestamp': '2020-05-28 19:24:31'},\n",
       " {'nodeID': '511066',\n",
       "  'text': 'as far as England is concerned, we are following the advice we have been given',\n",
       "  'type': 'I',\n",
       "  'timestamp': '2020-05-28 19:24:32'},\n",
       " {'nodeID': '511070',\n",
       "  'text': 'it is really important when safe to get children back into school for exactly the reason that Claire mentioned in her question',\n",
       "  'type': 'I',\n",
       "  'timestamp': '2020-05-28 19:24:32'},\n",
       " {'nodeID': '511074',\n",
       "  'text': 'Chris Philip is worried that there are children who are missing out on education, children particularly from disadvantaged backgrounds who are at risk of falling behind in their studies',\n",
       "  'type': 'I',\n",
       "  'timestamp': '2020-05-28 19:24:33'},\n",
       " {'nodeID': '511078',\n",
       "  'text': 'as soon as we safely can it is important to get children back into the classroom',\n",
       "  'type': 'I',\n",
       "  'timestamp': '2020-05-28 19:24:33'},\n",
       " {'nodeID': '511082',\n",
       "  'text': \"at no point are we going to take any risk with anyone's health, the children's, teachers', parents, anyone\",\n",
       "  'type': 'I',\n",
       "  'timestamp': '2020-05-28 19:24:34'},\n",
       " {'nodeID': '511086',\n",
       "  'text': 'the advice is so important',\n",
       "  'type': 'I',\n",
       "  'timestamp': '2020-05-28 19:24:35'},\n",
       " {'nodeID': '511090',\n",
       "  'text': 'the advice will get published tomorrow',\n",
       "  'type': 'I',\n",
       "  'timestamp': '2020-05-28 19:24:35'},\n",
       " {'nodeID': '511094',\n",
       "  'text': 'there will be further confirmation coming next week',\n",
       "  'type': 'I',\n",
       "  'timestamp': '2020-05-28 19:24:36'},\n",
       " {'nodeID': '511099',\n",
       "  'text': \"we don't want any child to get left behind, particularly those from disadvantaged backgrounds\",\n",
       "  'type': 'I',\n",
       "  'timestamp': '2020-05-28 19:24:36'},\n",
       " {'nodeID': '511103',\n",
       "  'text': \"let's all work together to reopen schools\",\n",
       "  'type': 'I',\n",
       "  'timestamp': '2020-05-28 19:24:37'},\n",
       " {'nodeID': '511107',\n",
       "  'text': 'it would be more likely to be successful if head teachers had known about 1 June before it was announced to the nation at large when they heard it on television or not',\n",
       "  'type': 'I',\n",
       "  'timestamp': '2020-05-28 19:24:37'},\n",
       " {'nodeID': '511111',\n",
       "  'text': 'there are thousands of head teachers and tens of hundreds of thousands of teachers',\n",
       "  'type': 'I',\n",
       "  'timestamp': '2020-05-28 19:24:38'},\n",
       " {'nodeID': '511115',\n",
       "  'text': 'it is hard to announce it to tens of thousands of people',\n",
       "  'type': 'I',\n",
       "  'timestamp': '2020-05-28 19:24:38'},\n",
       " {'nodeID': '511120',\n",
       "  'text': 'it is safe to go back on June 1, as we currently believe it is',\n",
       "  'type': 'I',\n",
       "  'timestamp': '2020-05-28 19:24:39'},\n",
       " {'nodeID': '511124',\n",
       "  'text': \"Chris Philip would encourage all schools to resume, in a safe way, to make sure children don't fall behind\",\n",
       "  'type': 'I',\n",
       "  'timestamp': '2020-05-28 19:24:40'}]"
      ]
     },
     "execution_count": 11,
     "metadata": {},
     "output_type": "execute_result"
    }
   ],
   "source": [
    "extracted_claims"
   ]
  },
  {
   "cell_type": "code",
   "execution_count": null,
   "id": "ee4efab2-0937-4b54-91d1-e7957048c81b",
   "metadata": {},
   "outputs": [],
   "source": []
  },
  {
   "cell_type": "markdown",
   "id": "68c35a3d-b9d4-451e-a4f2-bf210912a8e8",
   "metadata": {},
   "source": [
    "## Extract only texts"
   ]
  },
  {
   "cell_type": "code",
   "execution_count": 12,
   "id": "a3592f0d-cb0f-42a5-9352-beba201b7a88",
   "metadata": {},
   "outputs": [],
   "source": [
    "# Extract claims from the graph\n",
    "\n",
    "extracted_claims = RelationClaimExtractor.get_claim_texts_aif(\n",
    "        aif_json=data\n",
    "    )"
   ]
  },
  {
   "cell_type": "code",
   "execution_count": 13,
   "id": "ceb45de9-dc12-468d-8bcb-fed5037d4fa3",
   "metadata": {},
   "outputs": [
    {
     "data": {
      "text/plain": [
       "[\"on Helle's point about the constituent nations of the United Kingdom, Wales, Scotland and Northern Ireland chart their own course\",\n",
       " 'as far as England is concerned, we are following the advice we have been given',\n",
       " 'it is really important when safe to get children back into school for exactly the reason that Claire mentioned in her question',\n",
       " 'Chris Philip is worried that there are children who are missing out on education, children particularly from disadvantaged backgrounds who are at risk of falling behind in their studies',\n",
       " 'as soon as we safely can it is important to get children back into the classroom',\n",
       " \"at no point are we going to take any risk with anyone's health, the children's, teachers', parents, anyone\",\n",
       " 'the advice is so important',\n",
       " 'the advice will get published tomorrow',\n",
       " 'there will be further confirmation coming next week',\n",
       " \"we don't want any child to get left behind, particularly those from disadvantaged backgrounds\",\n",
       " \"let's all work together to reopen schools\",\n",
       " 'it would be more likely to be successful if head teachers had known about 1 June before it was announced to the nation at large when they heard it on television or not',\n",
       " 'there are thousands of head teachers and tens of hundreds of thousands of teachers',\n",
       " 'it is hard to announce it to tens of thousands of people',\n",
       " 'it is safe to go back on June 1, as we currently believe it is',\n",
       " \"Chris Philip would encourage all schools to resume, in a safe way, to make sure children don't fall behind\"]"
      ]
     },
     "execution_count": 13,
     "metadata": {},
     "output_type": "execute_result"
    }
   ],
   "source": [
    "extracted_claims"
   ]
  },
  {
   "cell_type": "code",
   "execution_count": null,
   "id": "b4cf55d3-cb95-4728-90de-d72bcd814287",
   "metadata": {},
   "outputs": [],
   "source": []
  },
  {
   "cell_type": "markdown",
   "id": "c18200d7-eeea-46c3-becb-cfcdbca0b693",
   "metadata": {},
   "source": [
    "## If you have xAIF graph, use <i>get_claim_texts_xaif</i> and <i>get_claim_nodes_xaif methods</i>"
   ]
  },
  {
   "cell_type": "code",
   "execution_count": 14,
   "id": "00f3b608-d3ad-435c-83d7-eb83a0c698fa",
   "metadata": {},
   "outputs": [],
   "source": [
    "extracted_claims = RelationClaimExtractor.get_claim_nodes_xaif(\n",
    "        xaif_json={\"AIF\": data}\n",
    "    )"
   ]
  },
  {
   "cell_type": "code",
   "execution_count": 15,
   "id": "af4c2887-7b08-4aab-b611-191185409519",
   "metadata": {},
   "outputs": [
    {
     "data": {
      "text/plain": [
       "[{'nodeID': '511062',\n",
       "  'text': \"on Helle's point about the constituent nations of the United Kingdom, Wales, Scotland and Northern Ireland chart their own course\",\n",
       "  'type': 'I',\n",
       "  'timestamp': '2020-05-28 19:24:31'},\n",
       " {'nodeID': '511066',\n",
       "  'text': 'as far as England is concerned, we are following the advice we have been given',\n",
       "  'type': 'I',\n",
       "  'timestamp': '2020-05-28 19:24:32'},\n",
       " {'nodeID': '511070',\n",
       "  'text': 'it is really important when safe to get children back into school for exactly the reason that Claire mentioned in her question',\n",
       "  'type': 'I',\n",
       "  'timestamp': '2020-05-28 19:24:32'},\n",
       " {'nodeID': '511074',\n",
       "  'text': 'Chris Philip is worried that there are children who are missing out on education, children particularly from disadvantaged backgrounds who are at risk of falling behind in their studies',\n",
       "  'type': 'I',\n",
       "  'timestamp': '2020-05-28 19:24:33'},\n",
       " {'nodeID': '511078',\n",
       "  'text': 'as soon as we safely can it is important to get children back into the classroom',\n",
       "  'type': 'I',\n",
       "  'timestamp': '2020-05-28 19:24:33'},\n",
       " {'nodeID': '511082',\n",
       "  'text': \"at no point are we going to take any risk with anyone's health, the children's, teachers', parents, anyone\",\n",
       "  'type': 'I',\n",
       "  'timestamp': '2020-05-28 19:24:34'},\n",
       " {'nodeID': '511086',\n",
       "  'text': 'the advice is so important',\n",
       "  'type': 'I',\n",
       "  'timestamp': '2020-05-28 19:24:35'},\n",
       " {'nodeID': '511090',\n",
       "  'text': 'the advice will get published tomorrow',\n",
       "  'type': 'I',\n",
       "  'timestamp': '2020-05-28 19:24:35'},\n",
       " {'nodeID': '511094',\n",
       "  'text': 'there will be further confirmation coming next week',\n",
       "  'type': 'I',\n",
       "  'timestamp': '2020-05-28 19:24:36'},\n",
       " {'nodeID': '511099',\n",
       "  'text': \"we don't want any child to get left behind, particularly those from disadvantaged backgrounds\",\n",
       "  'type': 'I',\n",
       "  'timestamp': '2020-05-28 19:24:36'},\n",
       " {'nodeID': '511103',\n",
       "  'text': \"let's all work together to reopen schools\",\n",
       "  'type': 'I',\n",
       "  'timestamp': '2020-05-28 19:24:37'},\n",
       " {'nodeID': '511107',\n",
       "  'text': 'it would be more likely to be successful if head teachers had known about 1 June before it was announced to the nation at large when they heard it on television or not',\n",
       "  'type': 'I',\n",
       "  'timestamp': '2020-05-28 19:24:37'},\n",
       " {'nodeID': '511111',\n",
       "  'text': 'there are thousands of head teachers and tens of hundreds of thousands of teachers',\n",
       "  'type': 'I',\n",
       "  'timestamp': '2020-05-28 19:24:38'},\n",
       " {'nodeID': '511115',\n",
       "  'text': 'it is hard to announce it to tens of thousands of people',\n",
       "  'type': 'I',\n",
       "  'timestamp': '2020-05-28 19:24:38'},\n",
       " {'nodeID': '511120',\n",
       "  'text': 'it is safe to go back on June 1, as we currently believe it is',\n",
       "  'type': 'I',\n",
       "  'timestamp': '2020-05-28 19:24:39'},\n",
       " {'nodeID': '511124',\n",
       "  'text': \"Chris Philip would encourage all schools to resume, in a safe way, to make sure children don't fall behind\",\n",
       "  'type': 'I',\n",
       "  'timestamp': '2020-05-28 19:24:40'}]"
      ]
     },
     "execution_count": 15,
     "metadata": {},
     "output_type": "execute_result"
    }
   ],
   "source": [
    "extracted_claims"
   ]
  },
  {
   "cell_type": "code",
   "execution_count": null,
   "id": "9f842759-c8ae-43df-b6f1-9f45d4684345",
   "metadata": {},
   "outputs": [],
   "source": []
  },
  {
   "cell_type": "code",
   "execution_count": 16,
   "id": "17deb545-07ce-450e-a225-887f5f869daa",
   "metadata": {},
   "outputs": [],
   "source": [
    "extracted_claims = RelationClaimExtractor.get_claim_texts_xaif(\n",
    "        xaif_json={\"AIF\": data}\n",
    "    )"
   ]
  },
  {
   "cell_type": "code",
   "execution_count": null,
   "id": "f98740e8-d7e5-4ec0-b239-8cfd8a2c8ce0",
   "metadata": {},
   "outputs": [],
   "source": [
    "extracted_claims"
   ]
  }
 ],
 "metadata": {
  "kernelspec": {
   "display_name": "Python 3 (ipykernel)",
   "language": "python",
   "name": "python3"
  },
  "language_info": {
   "codemirror_mode": {
    "name": "ipython",
    "version": 3
   },
   "file_extension": ".py",
   "mimetype": "text/x-python",
   "name": "python",
   "nbconvert_exporter": "python",
   "pygments_lexer": "ipython3",
   "version": "3.9.6"
  }
 },
 "nbformat": 4,
 "nbformat_minor": 5
}
