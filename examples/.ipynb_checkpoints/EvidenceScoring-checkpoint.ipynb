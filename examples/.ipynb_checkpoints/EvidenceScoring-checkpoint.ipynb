{
 "cells": [
  {
   "cell_type": "markdown",
   "id": "42aa6e7f-07d9-4067-a496-5f3480a1a997",
   "metadata": {},
   "source": [
    "## Make sure to execute from the root dir of the project. Or add the project path into sys.path:"
   ]
  },
  {
   "cell_type": "code",
   "execution_count": 1,
   "id": "3a9c161e-cefe-47b0-b16c-4f4f51736884",
   "metadata": {},
   "outputs": [],
   "source": [
    "# import sys\n",
    "# sys.path.append(\"<FULL PATH TO THE DIR>/CEASystem/\")"
   ]
  },
  {
   "cell_type": "code",
   "execution_count": 7,
   "id": "67eb99aa-c38f-454d-8d3b-7f395efc2863",
   "metadata": {},
   "outputs": [],
   "source": [
    "from evidence_scoring import AlignmentMarixFilteringScoring\n",
    "\n",
    "import numpy as np"
   ]
  },
  {
   "cell_type": "code",
   "execution_count": 8,
   "id": "04f43889-204c-4573-9b0d-806e40039803",
   "metadata": {},
   "outputs": [
    {
     "name": "stderr",
     "output_type": "stream",
     "text": [
      "Some weights of the model checkpoint at roberta-large-mnli were not used when initializing RobertaForSequenceClassification: ['roberta.pooler.dense.weight', 'roberta.pooler.dense.bias']\n",
      "- This IS expected if you are initializing RobertaForSequenceClassification from the checkpoint of a model trained on another task or with another architecture (e.g. initializing a BertForSequenceClassification model from a BertForPreTraining model).\n",
      "- This IS NOT expected if you are initializing RobertaForSequenceClassification from the checkpoint of a model that you expect to be exactly identical (initializing a BertForSequenceClassification model from a BertForSequenceClassification model).\n"
     ]
    }
   ],
   "source": [
    "MNLI_MODEL_PATH = \"roberta-large-mnli\" # from huggingface or local\n",
    "\n",
    "# Label decoder. Should contain entailment and contradiction keys with their location in logits of the model\n",
    "LABEL_DECODER = {\"entailment\": 2, \"contradiction\": 0}\n",
    "\n",
    "# If >= 0, the evidences that support <= min_alignment_limit claims will be removed. If -1, will be ignored\n",
    "MIN_AL_LIMIT = -1 \n",
    "\n",
    "# If >= 0, the evidences that support <= min_alignment_limit claims will be removed. If -1, will be ignored\n",
    "MAX_AL_LIMIT = -1 \n",
    "\n",
    "# batch size to use when running transformers model\n",
    "BATCH_SIZE= 8\n",
    "\n",
    "scorer = AlignmentMarixFilteringScoring(\n",
    "        mnli_model_name_path=MNLI_MODEL_PATH, \n",
    "        model_label_decoder=LABEL_DECODER\n",
    "    )"
   ]
  },
  {
   "cell_type": "code",
   "execution_count": 9,
   "id": "98ac0040-3948-4462-9ee1-2ce34940ba26",
   "metadata": {},
   "outputs": [],
   "source": [
    "# Input: See the output of EvidenceAlignment.ipynb\n",
    "alignment_matrix = np.array([[1., 1., 1., 0., 0., 0., 0.],\n",
    "       [0., 0., 0., 0., 1., 1., 0.]])\n",
    "\n",
    "evidence_texts = [\n",
    "    \"natural factors can influence climate\",\n",
    "    \"the current warming trend is largely attributed to human activities\",\n",
    "    \"the burning of fossil fuels and deforestation cause climate change\",\n",
    "    \"The financial crisis of 1929 was caused by too much cash in my pocket\",\n",
    "    \"A balanced diet with a variety of nutrients is more beneficial for overall health\",\n",
    "    \"Excessive consumption of chocolate, especially with added sugars, can contribute to health problems\",\n",
    "    \"dogs can bark\"\n",
    "]\n",
    "\n",
    "hypothesis_texts = [\n",
    "    \"Climate change is not influenced by human activities\",\n",
    "    \"Eating chocolate every day is good for your health\"\n",
    "]"
   ]
  },
  {
   "cell_type": "code",
   "execution_count": 10,
   "id": "5345856e-1c14-494e-9800-5c07df87acdb",
   "metadata": {},
   "outputs": [
    {
     "name": "stderr",
     "output_type": "stream",
     "text": [
      "We strongly recommend passing in an `attention_mask` since your input_ids may be padded. See https://huggingface.co/docs/transformers/troubleshooting#incorrect-output-when-padding-tokens-arent-masked.\n"
     ]
    }
   ],
   "source": [
    "pred_dict = scorer.score_filter_matrix(\n",
    "    alignment_matrix=alignment_matrix,\n",
    "    evidence_texts = evidence_texts,\n",
    "    hypothesis_texts=hypothesis_texts,\n",
    "    min_alignment_limit=MIN_AL_LIMIT,\n",
    "    max_alignment_limit=MAX_AL_LIMIT,\n",
    "    batch_size=BATCH_SIZE\n",
    ")"
   ]
  },
  {
   "cell_type": "markdown",
   "id": "612dde5d-b3c4-46b0-9b48-d5ef50bdb756",
   "metadata": {},
   "source": [
    "## See README for more details about the output keys and formats"
   ]
  },
  {
   "cell_type": "code",
   "execution_count": 11,
   "id": "c8630fca-1f65-486f-8463-461cad25250d",
   "metadata": {},
   "outputs": [
    {
     "data": {
      "text/plain": [
       "dict_keys(['scoring_matrix', 'filtered_evidences', 'hypothesis_texts', 'dropped_evidences'])"
      ]
     },
     "execution_count": 11,
     "metadata": {},
     "output_type": "execute_result"
    }
   ],
   "source": [
    "pred_dict.keys()"
   ]
  },
  {
   "cell_type": "code",
   "execution_count": 12,
   "id": "289c810c-5cca-4845-bb7c-bd7a7ef351cb",
   "metadata": {},
   "outputs": [
    {
     "data": {
      "text/plain": [
       "[[0.03561151400208473,\n",
       "  -0.9924881458282471,\n",
       "  -0.8473494052886963,\n",
       "  0.0,\n",
       "  0.0,\n",
       "  0.0,\n",
       "  0.0],\n",
       " [0.0, 0.0, 0.0, 0.0, 0.06036905571818352, -0.9275469183921814, 0.0]]"
      ]
     },
     "execution_count": 12,
     "metadata": {},
     "output_type": "execute_result"
    }
   ],
   "source": [
    "pred_dict[\"scoring_matrix\"]"
   ]
  },
  {
   "cell_type": "code",
   "execution_count": 13,
   "id": "251094ed-1b0d-47d4-86ac-b9d1e052c8f3",
   "metadata": {},
   "outputs": [
    {
     "data": {
      "text/plain": [
       "['natural factors can influence climate',\n",
       " 'the current warming trend is largely attributed to human activities',\n",
       " 'the burning of fossil fuels and deforestation cause climate change',\n",
       " 'The financial crisis of 1929 was caused by too much cash in my pocket',\n",
       " 'A balanced diet with a variety of nutrients is more beneficial for overall health',\n",
       " 'Excessive consumption of chocolate, especially with added sugars, can contribute to health problems',\n",
       " 'dogs can bark']"
      ]
     },
     "execution_count": 13,
     "metadata": {},
     "output_type": "execute_result"
    }
   ],
   "source": [
    "pred_dict[\"filtered_evidences\"]"
   ]
  },
  {
   "cell_type": "code",
   "execution_count": 14,
   "id": "124ac983-fb8a-4669-89bc-cd4142f906eb",
   "metadata": {},
   "outputs": [
    {
     "data": {
      "text/plain": [
       "['Climate change is not influenced by human activities',\n",
       " 'Eating chocolate every day is good for your health']"
      ]
     },
     "execution_count": 14,
     "metadata": {},
     "output_type": "execute_result"
    }
   ],
   "source": [
    "pred_dict[\"hypothesis_texts\"]"
   ]
  },
  {
   "cell_type": "code",
   "execution_count": 15,
   "id": "62522f12-4483-41b0-8cfb-1e7de8b379db",
   "metadata": {},
   "outputs": [
    {
     "data": {
      "text/plain": [
       "[]"
      ]
     },
     "execution_count": 15,
     "metadata": {},
     "output_type": "execute_result"
    }
   ],
   "source": [
    "pred_dict[\"dropped_evidences\"]"
   ]
  },
  {
   "cell_type": "code",
   "execution_count": null,
   "id": "4faa0fd2-7135-4f7f-aaf8-46554c1a7024",
   "metadata": {},
   "outputs": [],
   "source": []
  }
 ],
 "metadata": {
  "kernelspec": {
   "display_name": "Python 3 (ipykernel)",
   "language": "python",
   "name": "python3"
  },
  "language_info": {
   "codemirror_mode": {
    "name": "ipython",
    "version": 3
   },
   "file_extension": ".py",
   "mimetype": "text/x-python",
   "name": "python",
   "nbconvert_exporter": "python",
   "pygments_lexer": "ipython3",
   "version": "3.9.6"
  }
 },
 "nbformat": 4,
 "nbformat_minor": 5
}
