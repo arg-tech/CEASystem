{
 "cells": [
  {
   "cell_type": "markdown",
   "id": "31660680-0e20-4085-be5f-be318f13ed97",
   "metadata": {},
   "source": [
    "## Make sure to execute from the root dir of the project. Or add the project path into sys.path:"
   ]
  },
  {
   "cell_type": "code",
   "execution_count": 2,
   "id": "536d58a9-14a1-4ac6-95df-5b9c30cf0f1d",
   "metadata": {},
   "outputs": [],
   "source": [
    "# import sys\n",
    "# sys.path.append(\"<FULL PATH TO THE DIR>/CEASystem/\")"
   ]
  },
  {
   "cell_type": "code",
   "execution_count": 4,
   "id": "fed12f8c-5518-4f86-b1be-a951a811aac5",
   "metadata": {},
   "outputs": [],
   "source": [
    "from claim_detection import ClaimExtractor"
   ]
  },
  {
   "cell_type": "markdown",
   "id": "bb357809-0d35-4b72-ae6b-80c83b08930f",
   "metadata": {},
   "source": [
    "## The algorithm will predict if the claims are worth checking"
   ]
  },
  {
   "cell_type": "code",
   "execution_count": 5,
   "id": "b93ea843-c380-4522-a477-e60fff31f42a",
   "metadata": {},
   "outputs": [],
   "source": [
    "# init model\n",
    "# See README for the arguments\n",
    "\n",
    "model = ClaimExtractor(\n",
    "    model_path_name=\"yevhenkost/claim-detection-claimbuster-binary-TinyBERT_General_4L_312D\",\n",
    "    keep_logit_idx=1, \n",
    "    conf_thold=0.8\n",
    ")"
   ]
  },
  {
   "cell_type": "code",
   "execution_count": null,
   "id": "421ddf63-0a7a-459c-be9c-7e3db766888f",
   "metadata": {},
   "outputs": [],
   "source": []
  },
  {
   "cell_type": "markdown",
   "id": "3bb72ea0-a3dc-4a4a-9cb1-6a9604062d8d",
   "metadata": {},
   "source": [
    "For example, consider the input text about AI and job market. The model will split it into the sentences with nltk.sent_tokenize, and for each sentence will predict, if it should be kept or not."
   ]
  },
  {
   "cell_type": "code",
   "execution_count": 6,
   "id": "3d432ca5-a511-4f98-9bba-4f07c8d170ee",
   "metadata": {},
   "outputs": [],
   "source": [
    "text = \"\"\"In recent years, the rise of artificial intelligence (AI) has sparked heated debates about its impact on employment.While some argue that AI will lead to widespread job loss, others believe it will create new opportunities and enhance productivity. In this article, we will explore various claims surrounding the impact of AI on employment, shedding light on the complex relationship between technological advancement and the job market.\n",
    "\n",
    "AI will lead to massive job displacement, causing unemployment rates to soar.\n",
    "On the other hand, AI will actually create more jobs than it displaces, fostering economic growth.\\n\\n The integration of AI technologies will lead to the development of new industries and job sectors, creating a demand for specialized skills.\n",
    "\n",
    "Critics argue that the jobs created by AI will mainly be in highly technical fields, leaving many workers in traditional industries unemployed.\\n\\n It is suggested that the impact of AI on employment will vary across different sectors and regions, with some experiencing significant job displacement while others witness growth.\n",
    "\n",
    "Proponents of AI contend that automation will streamline mundane tasks, allowing humans to focus on more creative and complex aspects of work.\\nSkeptics argue that the increased reliance on AI may lead to a concentration of wealth, with only a small elite benefiting from the technological advancements while a majority faces job insecurity.\\n\\nThere is ongoing research to understand the potential societal impact of AI on income inequality and to develop policies that address the challenges associated with technological disruption.\"\"\"\n"
   ]
  },
  {
   "cell_type": "code",
   "execution_count": 9,
   "id": "dff44872-61b3-4b90-9f71-c447e61f250b",
   "metadata": {},
   "outputs": [
    {
     "name": "stderr",
     "output_type": "stream",
     "text": [
      "Asking to truncate to max_length but no maximum length is provided and the model has no predefined maximum length. Default to no truncation.\n"
     ]
    }
   ],
   "source": [
    "keep_claims = model.get_claims(\n",
    "    text = text\n",
    ")"
   ]
  },
  {
   "cell_type": "markdown",
   "id": "8dc95a3b-a94d-4e12-822f-d3df2d3d995b",
   "metadata": {},
   "source": [
    "Output is a list of str, selected sentences as claims."
   ]
  },
  {
   "cell_type": "code",
   "execution_count": 10,
   "id": "2f22ed38-59e2-40eb-bd2b-4ac0af5a9165",
   "metadata": {},
   "outputs": [
    {
     "data": {
      "text/plain": [
       "['Critics argue that the jobs created by AI will mainly be in highly technical fields, leaving many workers in traditional industries unemployed.',\n",
       " 'It is suggested that the impact of AI on employment will vary across different sectors and regions, with some experiencing significant job displacement while others witness growth.',\n",
       " 'Skeptics argue that the increased reliance on AI may lead to a concentration of wealth, with only a small elite benefiting from the technological advancements while a majority faces job insecurity.']"
      ]
     },
     "execution_count": 10,
     "metadata": {},
     "output_type": "execute_result"
    }
   ],
   "source": [
    "keep_claims"
   ]
  },
  {
   "cell_type": "code",
   "execution_count": null,
   "id": "06b1d94d-ef88-4252-9b1e-32781480c594",
   "metadata": {},
   "outputs": [],
   "source": []
  }
 ],
 "metadata": {
  "kernelspec": {
   "display_name": "Python 3 (ipykernel)",
   "language": "python",
   "name": "python3"
  },
  "language_info": {
   "codemirror_mode": {
    "name": "ipython",
    "version": 3
   },
   "file_extension": ".py",
   "mimetype": "text/x-python",
   "name": "python",
   "nbconvert_exporter": "python",
   "pygments_lexer": "ipython3",
   "version": "3.9.6"
  }
 },
 "nbformat": 4,
 "nbformat_minor": 5
}
