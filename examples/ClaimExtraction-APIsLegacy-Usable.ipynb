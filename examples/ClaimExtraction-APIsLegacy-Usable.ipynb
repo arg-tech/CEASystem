{
 "cells": [
  {
   "cell_type": "markdown",
   "id": "1d9c44eb-18d6-483e-bf73-ded4ca3a5fbc",
   "metadata": {},
   "source": [
    "## Make sure to execute from the root dir of the project. Or add the project path into sys.path:"
   ]
  },
  {
   "cell_type": "code",
   "execution_count": 1,
   "id": "5a3760c0-5d52-4a36-b1eb-a42e74f01ae2",
   "metadata": {},
   "outputs": [],
   "source": [
    "# import sys\n",
    "# sys.path.append(\"<FULL PATH TO THE DIR>/CEASystem/\")"
   ]
  },
  {
   "cell_type": "code",
   "execution_count": 2,
   "id": "29c7c608-82e2-480e-94a9-fa2b687be18b",
   "metadata": {},
   "outputs": [],
   "source": [
    "import sys\n",
    "sys.path.append(\"/Users/yevhen/HypothesisJournalists/doker-ach-factchecking/\")"
   ]
  },
  {
   "cell_type": "code",
   "execution_count": 3,
   "id": "d074a346-9a32-4b1a-ba1b-2b305e791cb2",
   "metadata": {},
   "outputs": [],
   "source": [
    "import json\n",
    "from claim_extraction import RelationClaimExtractor"
   ]
  },
  {
   "cell_type": "code",
   "execution_count": 4,
   "id": "72922b18-7d43-4d14-a14d-5b0877317b5f",
   "metadata": {},
   "outputs": [],
   "source": [
    "# load AIF data\n",
    "\n",
    "data = json.load(\n",
    "    open(\"aif_graph.json\", \"r\")\n",
    ")"
   ]
  },
  {
   "cell_type": "code",
   "execution_count": 5,
   "id": "eabfb801-c7c0-40e3-94f0-37730f64fbf2",
   "metadata": {},
   "outputs": [
    {
     "data": {
      "text/plain": [
       "dict_keys(['descriptorfulfillments', 'edges', 'locutions', 'nodes', 'participants', 'schemefulfillments'])"
      ]
     },
     "execution_count": 5,
     "metadata": {},
     "output_type": "execute_result"
    }
   ],
   "source": [
    "# we need only edges and nodes\n",
    "data.keys()"
   ]
  },
  {
   "cell_type": "code",
   "execution_count": null,
   "id": "7f8f8e7e-a647-4601-bcd3-e06d36798dda",
   "metadata": {},
   "outputs": [],
   "source": []
  },
  {
   "cell_type": "markdown",
   "id": "70e71ca0-9eb9-43fe-a6ef-e4d10be8530f",
   "metadata": {},
   "source": [
    "## Extracting claims with all of the meta information from AIF graph"
   ]
  },
  {
   "cell_type": "code",
   "execution_count": 6,
   "id": "bd6f573a-27ed-4e5c-b50c-aaa0154da515",
   "metadata": {},
   "outputs": [],
   "source": [
    "# Extract claims from the graph\n",
    "\n",
    "keep_nodes_meta_dicts, structure_claims_graph = RelationClaimExtractor.get_claim_nodes_aif(\n",
    "    aif_json=data,\n",
    "    keep_ya_nodes_texts=[]\n",
    "    )"
   ]
  },
  {
   "cell_type": "code",
   "execution_count": 7,
   "id": "bec7ae04-310f-4d07-b71a-94ce555ef2e3",
   "metadata": {
    "scrolled": true
   },
   "outputs": [
    {
     "data": {
      "text/plain": [
       "[{'nodeID': 4,\n",
       "  'text': 'In recent years, there has been a growing push towards renewable energy sources as a solution to combat climate change',\n",
       "  'type': 'I'},\n",
       " {'nodeID': 7,\n",
       "  'text': 'The transition to renewables not only helps the environment but also has positive effects on the economy',\n",
       "  'type': 'I'},\n",
       " {'nodeID': 10,\n",
       "  'text': 'However, the economic impact is overstated and that the costs associated with renewable energy outweigh the benefits',\n",
       "  'type': 'I'},\n",
       " {'nodeID': 13,\n",
       "  'text': 'The renewable energy sector has experienced significant job growth and it was created over 500,000 jobs in the last five years, providing stable employment opportunities in manufacturing, installation, and maintenance',\n",
       "  'type': 'I'},\n",
       " {'nodeID': 16,\n",
       "  'text': 'On the contrary, the job creation in this sector is largely offset by job losses in traditional energy industries',\n",
       "  'type': 'I'},\n",
       " {'nodeID': 19,\n",
       "  'text': 'For every job created in renewable energy, two jobs are lost in the fossil fuel sector, leading to a net negative impact on overall employment',\n",
       "  'type': 'I'},\n",
       " {'nodeID': 22,\n",
       "  'text': 'The initial costs of transitioning to renewable energy are substantial',\n",
       "  'type': 'I'},\n",
       " {'nodeID': 25,\n",
       "  'text': 'On the other hand, the long-term benefits, such as reduced environmental damage and healthcare savings, outweigh the upfront expenses',\n",
       "  'type': 'I'},\n",
       " {'nodeID': 28,\n",
       "  'text': 'Renewable energy leads the decreasing costs of solar and wind technologies, making them more economically viable',\n",
       "  'type': 'I'},\n",
       " {'nodeID': 31,\n",
       "  'text': 'They claim that the cost of solar panels has decreased by 80% in the last decade, making it competitive with traditional energy sources in many regions',\n",
       "  'type': 'I'},\n",
       " {'nodeID': 34,\n",
       "  'text': 'However, the intermittent nature of renewable energy sources, such as solar and wind, makes them unreliable and necessitates backup from traditional energy sources',\n",
       "  'type': 'I'},\n",
       " {'nodeID': 37,\n",
       "  'text': 'They claim that this backup increases overall costs and undermines the economic feasibility of relying solely on renewables',\n",
       "  'type': 'I'},\n",
       " {'nodeID': 40,\n",
       "  'text': 'So, the provided evidences cast doubts on the effectiveness and sustainability of the renewable energy are overetimated and it creates more harm than good',\n",
       "  'type': 'I'}]"
      ]
     },
     "execution_count": 7,
     "metadata": {},
     "output_type": "execute_result"
    }
   ],
   "source": [
    "keep_nodes_meta_dicts"
   ]
  },
  {
   "cell_type": "code",
   "execution_count": 8,
   "id": "68a64eae-5f06-4a45-85a9-6b8dc1eb94ff",
   "metadata": {},
   "outputs": [
    {
     "data": {
      "text/plain": [
       "[{'fromID': 7, 'toID': 10, 'relation': 'Default Conflict'},\n",
       " {'fromID': 7, 'toID': 19, 'relation': 'Default Conflict'},\n",
       " {'fromID': 7, 'toID': 37, 'relation': 'Default Conflict'},\n",
       " {'fromID': 7, 'toID': 40, 'relation': 'Default Conflict'},\n",
       " {'fromID': 10, 'toID': 13, 'relation': 'Default Conflict'},\n",
       " {'fromID': 10, 'toID': 28, 'relation': 'Default Conflict'},\n",
       " {'fromID': 13, 'toID': 16, 'relation': 'Default Conflict'},\n",
       " {'fromID': 13, 'toID': 19, 'relation': 'Default Conflict'},\n",
       " {'fromID': 13, 'toID': 37, 'relation': 'Default Conflict'},\n",
       " {'fromID': 13, 'toID': 40, 'relation': 'Default Conflict'},\n",
       " {'fromID': 16, 'toID': 31, 'relation': 'Default Conflict'},\n",
       " {'fromID': 16, 'toID': 40, 'relation': 'Default Conflict'},\n",
       " {'fromID': 19, 'toID': 28, 'relation': 'Default Conflict'},\n",
       " {'fromID': 19, 'toID': 31, 'relation': 'Default Conflict'},\n",
       " {'fromID': 28, 'toID': 37, 'relation': 'Default Conflict'},\n",
       " {'fromID': 28, 'toID': 40, 'relation': 'Default Conflict'},\n",
       " {'fromID': 31, 'toID': 37, 'relation': 'Default Conflict'},\n",
       " {'fromID': 31, 'toID': 40, 'relation': 'Default Conflict'}]"
      ]
     },
     "execution_count": 8,
     "metadata": {},
     "output_type": "execute_result"
    }
   ],
   "source": [
    "structure_claims_graph"
   ]
  },
  {
   "cell_type": "code",
   "execution_count": null,
   "id": "ee4efab2-0937-4b54-91d1-e7957048c81b",
   "metadata": {},
   "outputs": [],
   "source": []
  },
  {
   "cell_type": "markdown",
   "id": "68c35a3d-b9d4-451e-a4f2-bf210912a8e8",
   "metadata": {},
   "source": [
    "## Extract only texts"
   ]
  },
  {
   "cell_type": "code",
   "execution_count": 10,
   "id": "a3592f0d-cb0f-42a5-9352-beba201b7a88",
   "metadata": {},
   "outputs": [],
   "source": [
    "# Extract claims from the graph\n",
    "\n",
    "extracted_claims = RelationClaimExtractor.get_claim_texts_aif(\n",
    "        aif_json=data\n",
    "    )"
   ]
  },
  {
   "cell_type": "code",
   "execution_count": 11,
   "id": "ceb45de9-dc12-468d-8bcb-fed5037d4fa3",
   "metadata": {},
   "outputs": [
    {
     "data": {
      "text/plain": [
       "['In recent years, there has been a growing push towards renewable energy sources as a solution to combat climate change',\n",
       " 'The transition to renewables not only helps the environment but also has positive effects on the economy',\n",
       " 'However, the economic impact is overstated and that the costs associated with renewable energy outweigh the benefits',\n",
       " 'The renewable energy sector has experienced significant job growth and it was created over 500,000 jobs in the last five years, providing stable employment opportunities in manufacturing, installation, and maintenance',\n",
       " 'On the contrary, the job creation in this sector is largely offset by job losses in traditional energy industries',\n",
       " 'For every job created in renewable energy, two jobs are lost in the fossil fuel sector, leading to a net negative impact on overall employment',\n",
       " 'The initial costs of transitioning to renewable energy are substantial',\n",
       " 'On the other hand, the long-term benefits, such as reduced environmental damage and healthcare savings, outweigh the upfront expenses',\n",
       " 'Renewable energy leads the decreasing costs of solar and wind technologies, making them more economically viable',\n",
       " 'They claim that the cost of solar panels has decreased by 80% in the last decade, making it competitive with traditional energy sources in many regions',\n",
       " 'However, the intermittent nature of renewable energy sources, such as solar and wind, makes them unreliable and necessitates backup from traditional energy sources',\n",
       " 'They claim that this backup increases overall costs and undermines the economic feasibility of relying solely on renewables',\n",
       " 'So, the provided evidences cast doubts on the effectiveness and sustainability of the renewable energy are overetimated and it creates more harm than good']"
      ]
     },
     "execution_count": 11,
     "metadata": {},
     "output_type": "execute_result"
    }
   ],
   "source": [
    "extracted_claims"
   ]
  },
  {
   "cell_type": "code",
   "execution_count": null,
   "id": "b4cf55d3-cb95-4728-90de-d72bcd814287",
   "metadata": {},
   "outputs": [],
   "source": []
  },
  {
   "cell_type": "markdown",
   "id": "c18200d7-eeea-46c3-becb-cfcdbca0b693",
   "metadata": {},
   "source": [
    "## If you have xAIF graph, use <i>get_claim_texts_xaif</i> and <i>get_claim_nodes_xaif methods</i>"
   ]
  },
  {
   "cell_type": "code",
   "execution_count": 12,
   "id": "00f3b608-d3ad-435c-83d7-eb83a0c698fa",
   "metadata": {},
   "outputs": [],
   "source": [
    "extracted_claims = RelationClaimExtractor.get_claim_nodes_xaif(\n",
    "        xaif_json={\"AIF\": data}\n",
    "    )"
   ]
  },
  {
   "cell_type": "code",
   "execution_count": 13,
   "id": "af4c2887-7b08-4aab-b611-191185409519",
   "metadata": {},
   "outputs": [
    {
     "data": {
      "text/plain": [
       "([{'nodeID': 4,\n",
       "   'text': 'In recent years, there has been a growing push towards renewable energy sources as a solution to combat climate change',\n",
       "   'type': 'I'},\n",
       "  {'nodeID': 7,\n",
       "   'text': 'The transition to renewables not only helps the environment but also has positive effects on the economy',\n",
       "   'type': 'I'},\n",
       "  {'nodeID': 10,\n",
       "   'text': 'However, the economic impact is overstated and that the costs associated with renewable energy outweigh the benefits',\n",
       "   'type': 'I'},\n",
       "  {'nodeID': 13,\n",
       "   'text': 'The renewable energy sector has experienced significant job growth and it was created over 500,000 jobs in the last five years, providing stable employment opportunities in manufacturing, installation, and maintenance',\n",
       "   'type': 'I'},\n",
       "  {'nodeID': 16,\n",
       "   'text': 'On the contrary, the job creation in this sector is largely offset by job losses in traditional energy industries',\n",
       "   'type': 'I'},\n",
       "  {'nodeID': 19,\n",
       "   'text': 'For every job created in renewable energy, two jobs are lost in the fossil fuel sector, leading to a net negative impact on overall employment',\n",
       "   'type': 'I'},\n",
       "  {'nodeID': 22,\n",
       "   'text': 'The initial costs of transitioning to renewable energy are substantial',\n",
       "   'type': 'I'},\n",
       "  {'nodeID': 25,\n",
       "   'text': 'On the other hand, the long-term benefits, such as reduced environmental damage and healthcare savings, outweigh the upfront expenses',\n",
       "   'type': 'I'},\n",
       "  {'nodeID': 28,\n",
       "   'text': 'Renewable energy leads the decreasing costs of solar and wind technologies, making them more economically viable',\n",
       "   'type': 'I'},\n",
       "  {'nodeID': 31,\n",
       "   'text': 'They claim that the cost of solar panels has decreased by 80% in the last decade, making it competitive with traditional energy sources in many regions',\n",
       "   'type': 'I'},\n",
       "  {'nodeID': 34,\n",
       "   'text': 'However, the intermittent nature of renewable energy sources, such as solar and wind, makes them unreliable and necessitates backup from traditional energy sources',\n",
       "   'type': 'I'},\n",
       "  {'nodeID': 37,\n",
       "   'text': 'They claim that this backup increases overall costs and undermines the economic feasibility of relying solely on renewables',\n",
       "   'type': 'I'},\n",
       "  {'nodeID': 40,\n",
       "   'text': 'So, the provided evidences cast doubts on the effectiveness and sustainability of the renewable energy are overetimated and it creates more harm than good',\n",
       "   'type': 'I'}],\n",
       " [{'fromID': 7, 'toID': 10, 'relation': 'Default Conflict'},\n",
       "  {'fromID': 7, 'toID': 19, 'relation': 'Default Conflict'},\n",
       "  {'fromID': 7, 'toID': 37, 'relation': 'Default Conflict'},\n",
       "  {'fromID': 7, 'toID': 40, 'relation': 'Default Conflict'},\n",
       "  {'fromID': 10, 'toID': 13, 'relation': 'Default Conflict'},\n",
       "  {'fromID': 10, 'toID': 28, 'relation': 'Default Conflict'},\n",
       "  {'fromID': 13, 'toID': 16, 'relation': 'Default Conflict'},\n",
       "  {'fromID': 13, 'toID': 19, 'relation': 'Default Conflict'},\n",
       "  {'fromID': 13, 'toID': 37, 'relation': 'Default Conflict'},\n",
       "  {'fromID': 13, 'toID': 40, 'relation': 'Default Conflict'},\n",
       "  {'fromID': 16, 'toID': 31, 'relation': 'Default Conflict'},\n",
       "  {'fromID': 16, 'toID': 40, 'relation': 'Default Conflict'},\n",
       "  {'fromID': 19, 'toID': 28, 'relation': 'Default Conflict'},\n",
       "  {'fromID': 19, 'toID': 31, 'relation': 'Default Conflict'},\n",
       "  {'fromID': 28, 'toID': 37, 'relation': 'Default Conflict'},\n",
       "  {'fromID': 28, 'toID': 40, 'relation': 'Default Conflict'},\n",
       "  {'fromID': 31, 'toID': 37, 'relation': 'Default Conflict'},\n",
       "  {'fromID': 31, 'toID': 40, 'relation': 'Default Conflict'}])"
      ]
     },
     "execution_count": 13,
     "metadata": {},
     "output_type": "execute_result"
    }
   ],
   "source": [
    "extracted_claims"
   ]
  },
  {
   "cell_type": "code",
   "execution_count": null,
   "id": "9f842759-c8ae-43df-b6f1-9f45d4684345",
   "metadata": {},
   "outputs": [],
   "source": []
  },
  {
   "cell_type": "code",
   "execution_count": 14,
   "id": "17deb545-07ce-450e-a225-887f5f869daa",
   "metadata": {},
   "outputs": [],
   "source": [
    "extracted_claims = RelationClaimExtractor.get_claim_texts_xaif(\n",
    "        xaif_json={\"AIF\": data}\n",
    "    )"
   ]
  },
  {
   "cell_type": "code",
   "execution_count": 15,
   "id": "f98740e8-d7e5-4ec0-b239-8cfd8a2c8ce0",
   "metadata": {},
   "outputs": [
    {
     "data": {
      "text/plain": [
       "['In recent years, there has been a growing push towards renewable energy sources as a solution to combat climate change',\n",
       " 'The transition to renewables not only helps the environment but also has positive effects on the economy',\n",
       " 'However, the economic impact is overstated and that the costs associated with renewable energy outweigh the benefits',\n",
       " 'The renewable energy sector has experienced significant job growth and it was created over 500,000 jobs in the last five years, providing stable employment opportunities in manufacturing, installation, and maintenance',\n",
       " 'On the contrary, the job creation in this sector is largely offset by job losses in traditional energy industries',\n",
       " 'For every job created in renewable energy, two jobs are lost in the fossil fuel sector, leading to a net negative impact on overall employment',\n",
       " 'The initial costs of transitioning to renewable energy are substantial',\n",
       " 'On the other hand, the long-term benefits, such as reduced environmental damage and healthcare savings, outweigh the upfront expenses',\n",
       " 'Renewable energy leads the decreasing costs of solar and wind technologies, making them more economically viable',\n",
       " 'They claim that the cost of solar panels has decreased by 80% in the last decade, making it competitive with traditional energy sources in many regions',\n",
       " 'However, the intermittent nature of renewable energy sources, such as solar and wind, makes them unreliable and necessitates backup from traditional energy sources',\n",
       " 'They claim that this backup increases overall costs and undermines the economic feasibility of relying solely on renewables',\n",
       " 'So, the provided evidences cast doubts on the effectiveness and sustainability of the renewable energy are overetimated and it creates more harm than good']"
      ]
     },
     "execution_count": 15,
     "metadata": {},
     "output_type": "execute_result"
    }
   ],
   "source": [
    "extracted_claims"
   ]
  },
  {
   "cell_type": "code",
   "execution_count": null,
   "id": "b10aa6d3-25c3-42e7-89f0-0430077ad923",
   "metadata": {},
   "outputs": [],
   "source": []
  }
 ],
 "metadata": {
  "kernelspec": {
   "display_name": "Python 3 (ipykernel)",
   "language": "python",
   "name": "python3"
  },
  "language_info": {
   "codemirror_mode": {
    "name": "ipython",
    "version": 3
   },
   "file_extension": ".py",
   "mimetype": "text/x-python",
   "name": "python",
   "nbconvert_exporter": "python",
   "pygments_lexer": "ipython3",
   "version": "3.9.6"
  }
 },
 "nbformat": 4,
 "nbformat_minor": 5
}
