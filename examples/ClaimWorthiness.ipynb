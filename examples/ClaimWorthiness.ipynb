{
 "cells": [
  {
   "cell_type": "markdown",
   "id": "31660680-0e20-4085-be5f-be318f13ed97",
   "metadata": {},
   "source": [
    "## Make sure to execute from the root dir of the project. Or add the project path into sys.path:"
   ]
  },
  {
   "cell_type": "code",
   "execution_count": 1,
   "id": "536d58a9-14a1-4ac6-95df-5b9c30cf0f1d",
   "metadata": {},
   "outputs": [],
   "source": [
    "# import sys\n",
    "# sys.path.append(\"<FULL PATH TO THE DIR>/CEASystem/\")"
   ]
  },
  {
   "cell_type": "code",
   "execution_count": 2,
   "id": "fed12f8c-5518-4f86-b1be-a951a811aac5",
   "metadata": {},
   "outputs": [],
   "source": [
    "from claim_worthiness import ClaimWorthiness"
   ]
  },
  {
   "cell_type": "markdown",
   "id": "bb357809-0d35-4b72-ae6b-80c83b08930f",
   "metadata": {},
   "source": [
    "## The algorithm will predict if the claims are worth checking"
   ]
  },
  {
   "cell_type": "code",
   "execution_count": 3,
   "id": "b93ea843-c380-4522-a477-e60fff31f42a",
   "metadata": {},
   "outputs": [],
   "source": [
    "# init model\n",
    "# See README for the arguments\n",
    "\n",
    "model = ClaimWorthiness(\n",
    "    model_path_name=\"yevhenkost/claimbuster-yesno-binary-bert-base-cased\",\n",
    "    label2id={0: \"NO\", 1: \"YES\"}, \n",
    "    confidence_thold=0.8\n",
    ")"
   ]
  },
  {
   "cell_type": "code",
   "execution_count": null,
   "id": "421ddf63-0a7a-459c-be9c-7e3db766888f",
   "metadata": {},
   "outputs": [],
   "source": []
  },
  {
   "cell_type": "markdown",
   "id": "3bb72ea0-a3dc-4a4a-9cb1-6a9604062d8d",
   "metadata": {},
   "source": [
    "Just for the example, here are 3 claims (hypothesis). Consider that there is only one edge between them, specifically from the 'water' claim to 'energy' claim. \n",
    "Also, there is an edge between 'energy' to 'complain' edge. \n",
    "Yes, it is not the valid example, but it will do as an illustration.\n",
    "\n",
    "The algorithm will detect and remove claims that are not check worthy from hypothesis_nodes and structure_hypothesis_graph. The edges that have from or to IDs that are not check worthy will be removed."
   ]
  },
  {
   "cell_type": "code",
   "execution_count": 4,
   "id": "3d432ca5-a511-4f98-9bba-4f07c8d170ee",
   "metadata": {},
   "outputs": [],
   "source": [
    "hypothesis_nodes = [\n",
    "    {\n",
    "        \"nodeID\": 7,\n",
    "        \"text\": \"The renewable enerhy is not sustainable and is a scam\",\n",
    "        \"type\": \"I\"\n",
    "        },\n",
    "    {\n",
    "        \"nodeID\": 10,\n",
    "        \"text\": \"Overall 1000 people complained about it\",\n",
    "        \"type\": \"I\"\n",
    "        },\n",
    "    {\n",
    "        \"nodeID\": 3,\n",
    "        \"text\": \"The water is wet\",\n",
    "        \"type\": \"I\"\n",
    "        }\n",
    "    ]\n",
    "\n",
    "structure_hypothesis_graph = [\n",
    "    {\n",
    "        \"fromID\": 3,\n",
    "        \"toID\": 7,\n",
    "        \"relation\": \"Asserting\"\n",
    "    },\n",
    "    {\n",
    "        \"fromID\": 7,\n",
    "        \"toID\": 10,\n",
    "        \"relation\": \"Asserting\"\n",
    "    }\n",
    "]\n"
   ]
  },
  {
   "cell_type": "code",
   "execution_count": 6,
   "id": "dff44872-61b3-4b90-9f71-c447e61f250b",
   "metadata": {},
   "outputs": [],
   "source": [
    "filtered_hypothesis_nodes, filtered_structure_hypothesis_graph = model.predict(\n",
    "    claim_nodes_dicts=hypothesis_nodes,\n",
    "    structure_claims_graph=structure_hypothesis_graph,\n",
    "    batch_size=8\n",
    ")"
   ]
  },
  {
   "cell_type": "code",
   "execution_count": null,
   "id": "aaa381c8-b524-44fc-9e23-3fa8ae97cf1f",
   "metadata": {},
   "outputs": [],
   "source": []
  },
  {
   "cell_type": "markdown",
   "id": "747ca722-d814-4115-aaed-174219c5fc6a",
   "metadata": {},
   "source": [
    "## Output is filtered versions of input filtered_hypothesis_nodes and filtered_structure_hypothesis_graph"
   ]
  },
  {
   "cell_type": "code",
   "execution_count": 7,
   "id": "1cc02585-83f0-4853-b5a2-d9865d9613b2",
   "metadata": {},
   "outputs": [
    {
     "data": {
      "text/plain": [
       "[{'nodeID': 7,\n",
       "  'text': 'The renewable enerhy is not sustainable and is a scam',\n",
       "  'type': 'I'},\n",
       " {'nodeID': 10,\n",
       "  'text': 'Overall 1000 people complained about it',\n",
       "  'type': 'I'}]"
      ]
     },
     "execution_count": 7,
     "metadata": {},
     "output_type": "execute_result"
    }
   ],
   "source": [
    "filtered_hypothesis_nodes"
   ]
  },
  {
   "cell_type": "code",
   "execution_count": 8,
   "id": "425ca6ac-0f15-43e2-9fd8-23b267c02979",
   "metadata": {},
   "outputs": [
    {
     "data": {
      "text/plain": [
       "[{'fromID': 7, 'toID': 10, 'relation': 'Asserting'}]"
      ]
     },
     "execution_count": 8,
     "metadata": {},
     "output_type": "execute_result"
    }
   ],
   "source": [
    "filtered_structure_hypothesis_graph"
   ]
  },
  {
   "cell_type": "markdown",
   "id": "eee1947c-f0b3-4352-a78e-5379f96f8e9a",
   "metadata": {},
   "source": [
    "The node about the water (which is not worthy of fact checking) was removed both from the graph and nodes dicts. However, everythin else remains."
   ]
  },
  {
   "cell_type": "code",
   "execution_count": null,
   "id": "06b1d94d-ef88-4252-9b1e-32781480c594",
   "metadata": {},
   "outputs": [],
   "source": []
  }
 ],
 "metadata": {
  "kernelspec": {
   "display_name": "Python 3 (ipykernel)",
   "language": "python",
   "name": "python3"
  },
  "language_info": {
   "codemirror_mode": {
    "name": "ipython",
    "version": 3
   },
   "file_extension": ".py",
   "mimetype": "text/x-python",
   "name": "python",
   "nbconvert_exporter": "python",
   "pygments_lexer": "ipython3",
   "version": "3.9.6"
  }
 },
 "nbformat": 4,
 "nbformat_minor": 5
}
